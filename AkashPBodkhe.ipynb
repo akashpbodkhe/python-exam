{
 "cells": [
  {
   "cell_type": "code",
   "execution_count": 73,
   "id": "b1fd36c4-74b3-44c8-a7b1-315443cadcf3",
   "metadata": {},
   "outputs": [
    {
     "ename": "TypeError",
     "evalue": "'str' object is not callable",
     "output_type": "error",
     "traceback": [
      "\u001b[1;31m---------------------------------------------------------------------------\u001b[0m",
      "\u001b[1;31mTypeError\u001b[0m                                 Traceback (most recent call last)",
      "Cell \u001b[1;32mIn[73], line 23\u001b[0m\n\u001b[0;32m     20\u001b[0m     \u001b[38;5;28;01mreturn\u001b[39;00m \u001b[38;5;124m'\u001b[39m\u001b[38;5;124m'\u001b[39m\u001b[38;5;241m.\u001b[39mjoin(missing_letters)\n\u001b[0;32m     22\u001b[0m sentence \u001b[38;5;241m=\u001b[39m \u001b[38;5;124m\"\u001b[39m\u001b[38;5;124mThe quick brown fox jumps over the lazy dog\u001b[39m\u001b[38;5;124m\"\u001b[39m\n\u001b[1;32m---> 23\u001b[0m \u001b[38;5;28mprint\u001b[39m(\u001b[38;5;124m\"\u001b[39m\u001b[38;5;124mMissing characters:\u001b[39m\u001b[38;5;124m\"\u001b[39m, find_missing_characters(sentence))\n\u001b[0;32m     25\u001b[0m sentence2 \u001b[38;5;241m=\u001b[39m \u001b[38;5;124m\"\u001b[39m\u001b[38;5;124mHello World\u001b[39m\u001b[38;5;124m\"\u001b[39m\n\u001b[0;32m     26\u001b[0m \u001b[38;5;28mprint\u001b[39m(\u001b[38;5;124m\"\u001b[39m\u001b[38;5;124mMissing characters:\u001b[39m\u001b[38;5;124m\"\u001b[39m, find_missing_characters(sentence2))\n",
      "\u001b[1;31mTypeError\u001b[0m: 'str' object is not callable"
     ]
    }
   ],
   "source": [
    "# Question 1 = write a program for a pangram.\n",
    "'''pseudo code \n",
    "   * Take a input\n",
    "   * Convert the input in lower case\n",
    "   * Use a function to  match each and every alphabets with given input (a to z)\n",
    "   * If any remaining character which are not there in input store them in new variable\n",
    "   * Print the new stored variable in sorted way    '''\n",
    "\n",
    "\n",
    "\n",
    "import string\n",
    "\n",
    "def find_missing_characters(sentence):\n",
    "    all_letters = set(string.ascii_lowercase)\n",
    "    \n",
    "    present_letters = set(sentence.lower())\n",
    "    \n",
    "    missing_letters = sorted(all_letters - present_letters)\n",
    "    \n",
    "    return ''.join(missing_letters)\n",
    "\n",
    "sentence = \"The quick brown fox jumps over the lazy dog\"\n",
    "print(\"Missing characters:\", find_missing_characters(sentence))\n",
    "\n",
    "sentence2 = \"Hello World\"\n",
    "print(\"Missing characters:\", find_missing_characters(sentence2))\n",
    "\n",
    "\n",
    "\n"
   ]
  },
  {
   "cell_type": "code",
   "execution_count": null,
   "id": "cce749a5-8148-4aff-b50d-0c9020f7f41b",
   "metadata": {},
   "outputs": [],
   "source": [
    "# Question 2 . inventory management system. "
   ]
  }
 ],
 "metadata": {
  "kernelspec": {
   "display_name": "Python [conda env:base] *",
   "language": "python",
   "name": "conda-base-py"
  },
  "language_info": {
   "codemirror_mode": {
    "name": "ipython",
    "version": 3
   },
   "file_extension": ".py",
   "mimetype": "text/x-python",
   "name": "python",
   "nbconvert_exporter": "python",
   "pygments_lexer": "ipython3",
   "version": "3.12.7"
  }
 },
 "nbformat": 4,
 "nbformat_minor": 5
}
